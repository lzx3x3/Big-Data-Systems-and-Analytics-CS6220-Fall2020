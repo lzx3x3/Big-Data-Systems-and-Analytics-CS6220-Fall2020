{
 "cells": [
  {
   "cell_type": "code",
   "execution_count": 35,
   "metadata": {},
   "outputs": [],
   "source": [
    "# import modules\n",
    "import numpy as np\n",
    "import pandas as pd\n",
    "from gensim.models import word2vec\n",
    "import collections\n",
    "import matplotlib.pyplot as plt"
   ]
  },
  {
   "cell_type": "code",
   "execution_count": 3,
   "metadata": {},
   "outputs": [
    {
     "data": {
      "text/html": [
       "<div>\n",
       "<style scoped>\n",
       "    .dataframe tbody tr th:only-of-type {\n",
       "        vertical-align: middle;\n",
       "    }\n",
       "\n",
       "    .dataframe tbody tr th {\n",
       "        vertical-align: top;\n",
       "    }\n",
       "\n",
       "    .dataframe thead th {\n",
       "        text-align: right;\n",
       "    }\n",
       "</style>\n",
       "<table border=\"1\" class=\"dataframe\">\n",
       "  <thead>\n",
       "    <tr style=\"text-align: right;\">\n",
       "      <th></th>\n",
       "      <th>name</th>\n",
       "      <th>ingredients</th>\n",
       "      <th>id</th>\n",
       "    </tr>\n",
       "  </thead>\n",
       "  <tbody>\n",
       "    <tr>\n",
       "      <th>0</th>\n",
       "      <td>arriba   baked winter squash mexican style</td>\n",
       "      <td>winter squash mexican seasoning mixed spice ho...</td>\n",
       "      <td>137739</td>\n",
       "    </tr>\n",
       "    <tr>\n",
       "      <th>1</th>\n",
       "      <td>a bit different  breakfast pizza</td>\n",
       "      <td>prepared pizza crust sausage patty eggs milk s...</td>\n",
       "      <td>31490</td>\n",
       "    </tr>\n",
       "    <tr>\n",
       "      <th>2</th>\n",
       "      <td>all in the kitchen  chili</td>\n",
       "      <td>ground beef yellow onions diced tomatoes tomat...</td>\n",
       "      <td>112140</td>\n",
       "    </tr>\n",
       "    <tr>\n",
       "      <th>3</th>\n",
       "      <td>alouette  potatoes</td>\n",
       "      <td>spreadable cheese with garlic and herbs new po...</td>\n",
       "      <td>59389</td>\n",
       "    </tr>\n",
       "    <tr>\n",
       "      <th>4</th>\n",
       "      <td>amish  tomato ketchup  for canning</td>\n",
       "      <td>tomato juice apple cider vinegar sugar salt pe...</td>\n",
       "      <td>44061</td>\n",
       "    </tr>\n",
       "  </tbody>\n",
       "</table>\n",
       "</div>"
      ],
      "text/plain": [
       "                                         name  \\\n",
       "0  arriba   baked winter squash mexican style   \n",
       "1            a bit different  breakfast pizza   \n",
       "2                   all in the kitchen  chili   \n",
       "3                          alouette  potatoes   \n",
       "4          amish  tomato ketchup  for canning   \n",
       "\n",
       "                                         ingredients      id  \n",
       "0  winter squash mexican seasoning mixed spice ho...  137739  \n",
       "1  prepared pizza crust sausage patty eggs milk s...   31490  \n",
       "2  ground beef yellow onions diced tomatoes tomat...  112140  \n",
       "3  spreadable cheese with garlic and herbs new po...   59389  \n",
       "4  tomato juice apple cider vinegar sugar salt pe...   44061  "
      ]
     },
     "execution_count": 3,
     "metadata": {},
     "output_type": "execute_result"
    }
   ],
   "source": [
    "# load receipe-ingredient data\n",
    "data = pd.read_csv(\"RAW_recipes.csv\")\n",
    "data = data[['name','ingredients','id']]\n",
    "data['ingredients'] = data['ingredients'].str.replace('[', '')\n",
    "data['ingredients'] = data['ingredients'].str.replace(']', '')\n",
    "data['ingredients'] = data['ingredients'].str.replace(\"'\", '')\n",
    "data['ingredients'] = data['ingredients'].str.replace(',', '')\n",
    "data.head()"
   ]
  },
  {
   "cell_type": "code",
   "execution_count": 9,
   "metadata": {},
   "outputs": [
    {
     "data": {
      "text/plain": [
       "['winter squash mexican seasoning mixed spice honey butter olive oil salt',\n",
       " 'prepared pizza crust sausage patty eggs milk salt and pepper cheese',\n",
       " 'ground beef yellow onions diced tomatoes tomato paste tomato soup rotel tomatoes kidney beans water chili powder ground cumin salt lettuce cheddar cheese',\n",
       " 'spreadable cheese with garlic and herbs new potatoes shallots parsley tarragon olive oil red wine vinegar salt pepper red bell pepper yellow bell pepper',\n",
       " 'tomato juice apple cider vinegar sugar salt pepper clove oil cinnamon oil dry mustard']"
      ]
     },
     "execution_count": 9,
     "metadata": {},
     "output_type": "execute_result"
    }
   ],
   "source": [
    "raw_ingredients = list()\n",
    "for ingredient in data[u'ingredients']:\n",
    "        raw_ingredients.append(ingredient.strip())\n",
    "        \n",
    "        \n",
    "raw_ingredients[:5]"
   ]
  },
  {
   "cell_type": "code",
   "execution_count": 8,
   "metadata": {},
   "outputs": [],
   "source": [
    "ingredients_list=[]\n",
    "for i in data['ingredients']:\n",
    "    li = i.split(\" \")\n",
    "    ingredients_list.append(li)"
   ]
  },
  {
   "cell_type": "code",
   "execution_count": 13,
   "metadata": {},
   "outputs": [
    {
     "data": {
      "text/plain": [
       "[('eggs water', 10),\n",
       " ('flour baking powder salt shortening milk', 6),\n",
       " ('olive oil garlic powder dried oregano dried basil pepper salt onion powder dijon-style mustard red wine vinegar',\n",
       "  5),\n",
       " ('lemons limes oranges water sugar', 5),\n",
       " ('all-purpose flour baking powder salt butter milk', 5)]"
      ]
     },
     "execution_count": 13,
     "metadata": {},
     "output_type": "execute_result"
    }
   ],
   "source": [
    "counts_ingr = collections.Counter(raw_ingredients)\n",
    "counts_ingr.most_common(5)"
   ]
  },
  {
   "cell_type": "code",
   "execution_count": 49,
   "metadata": {},
   "outputs": [
    {
     "data": {
      "text/plain": [
       "[('celery onion green sweet pepper garlic cloves olive oil cooked ham paprika sugar dry mustard ground cumin dried basil dried oregano dried thyme ground cloves black pepper cayenne pepper black-eyed peas yellow hominy diced tomatoes low sodium chicken broth fresh parsley molasses',\n",
       "  1),\n",
       " ('paprika salt garlic powder onion powder dried basil dried oregano dried tarragon dried thyme powdered sugar black pepper cayenne pepper red pepper flakes celery seed',\n",
       "  1),\n",
       " ('hard-cooked eggs mayonnaise dijon mustard salt-free cajun seasoning tabasco sauce salt black pepper fresh italian parsley',\n",
       "  1),\n",
       " ('butter eagle brand condensed milk light brown sugar sour cream egg extract nutmeg self-rising flour bisquick wooden popsicle sticks',\n",
       "  1),\n",
       " ('granulated sugar shortening eggs flour cream of tartar baking soda vanilla extract',\n",
       "  1)]"
      ]
     },
     "execution_count": 49,
     "metadata": {},
     "output_type": "execute_result"
    }
   ],
   "source": [
    "counts_ingr.most_common()[-5:]"
   ]
  },
  {
   "cell_type": "code",
   "execution_count": 16,
   "metadata": {},
   "outputs": [],
   "source": [
    "list_A = ['flour', 'egg', 'milk', 'orange', 'juice']"
   ]
  },
  {
   "cell_type": "code",
   "execution_count": 13,
   "metadata": {},
   "outputs": [],
   "source": [
    "# Set values for NN parameters\n",
    "# model codes referenced \"https://www.kaggle.com/ccorbi/word2vec-with-ingredients/notebook?select=train.json.zip\"!!\n",
    "\n",
    "vector_size = 300    # Word vector dimensionality                      \n",
    "min_word_count = 1    # corpus                    \n",
    "num_workers = 4       # Number of CPUs\n",
    "context = 4          # Context window size; \n",
    "                      # let's use avg recipte size                                                                                  \n",
    "downsampling = 1e-3   # threshold for configuring which \n",
    "                    # higher-frequency words are randomly downsampled\n",
    "\n",
    "# Initialize and train the model \n",
    "model = word2vec.Word2Vec(sentences=ingredients_list, workers=num_workers, \\\n",
    "            size=vector_size, min_count = min_word_count, \\\n",
    "            window = context, sample = downsampling, alpha=0.002)\n",
    "\n",
    "# If you don't plan to train the model any further, calling \n",
    "# init_sims will make the model much more memory-efficient.\n",
    "model.init_sims(replace=True)"
   ]
  },
  {
   "cell_type": "code",
   "execution_count": 31,
   "metadata": {},
   "outputs": [],
   "source": [
    "# Set values for NN parameters\n",
    "# model codes referenced \"https://www.kaggle.com/ccorbi/word2vec-with-ingredients/notebook?select=train.json.zip\"!!\n",
    "\n",
    "vector_size = 300    # Word vector dimensionality                      \n",
    "min_word_count = 1    # corpus                    \n",
    "num_workers = 4       # Number of CPUs\n",
    "context = 4          # Context window size; \n",
    "                      # let's use avg recipte size                                                                                  \n",
    "downsampling = 1e-3   # threshold for configuring which \n",
    "                    # higher-frequency words are randomly downsampled\n",
    "\n",
    "# Initialize and train the model \n",
    "model2 = word2vec.Word2Vec(sentences=ingredients_list, workers=num_workers, \\\n",
    "            size=vector_size, min_count = min_word_count, \\\n",
    "            window = context, sample = downsampling)\n",
    "\n",
    "# If you don't plan to train the model any further, calling \n",
    "# init_sims will make the model much more memory-efficient.\n",
    "model2.init_sims(replace=True)"
   ]
  },
  {
   "cell_type": "code",
   "execution_count": 32,
   "metadata": {},
   "outputs": [],
   "source": [
    "# Set values for NN parameters\n",
    "# model codes referenced \"https://www.kaggle.com/ccorbi/word2vec-with-ingredients/notebook?select=train.json.zip\"!!\n",
    "\n",
    "vector_size = 300    # Word vector dimensionality                      \n",
    "min_word_count = 4  # Ignore all words and bigrams with total collected count lower than this value                    \n",
    "num_workers = 4       # Number of CPUs\n",
    "context = 4          # Context window size; \n",
    "                      # let's use avg recipte size                                                                                  \n",
    "downsampling = 1e-3   # threshold for configuring which \n",
    "                    # higher-frequency words are randomly downsampled\n",
    "\n",
    "# Initialize and train the model \n",
    "model3 = word2vec.Word2Vec(sentences=ingredients_list, workers=num_workers, \\\n",
    "            size=vector_size, min_count = min_word_count, \\\n",
    "            window = context, sample = downsampling)\n",
    "\n",
    "# If you don't plan to train the model any further, calling \n",
    "# init_sims will make the model much more memory-efficient.\n",
    "model3.init_sims(replace=True)"
   ]
  },
  {
   "cell_type": "code",
   "execution_count": 14,
   "metadata": {},
   "outputs": [
    {
     "name": "stdout",
     "output_type": "stream",
     "text": [
      "Word2Vec(vocab=4829, size=300, alpha=0.002)\n"
     ]
    }
   ],
   "source": [
    "print(model)"
   ]
  },
  {
   "cell_type": "code",
   "execution_count": 40,
   "metadata": {},
   "outputs": [
    {
     "name": "stdout",
     "output_type": "stream",
     "text": [
      "Word2Vec(vocab=4829, size=300, alpha=0.025)\n"
     ]
    }
   ],
   "source": [
    "print(model2)"
   ]
  },
  {
   "cell_type": "code",
   "execution_count": 64,
   "metadata": {},
   "outputs": [
    {
     "name": "stdout",
     "output_type": "stream",
     "text": [
      "Word2Vec(vocab=3198, size=300, alpha=0.025)\n"
     ]
    }
   ],
   "source": [
    "print(model3)"
   ]
  },
  {
   "cell_type": "code",
   "execution_count": 15,
   "metadata": {},
   "outputs": [
    {
     "data": {
      "text/plain": [
       "[('lemons', 0.8468650579452515),\n",
       " ('orange', 0.8395963907241821),\n",
       " ('lime', 0.7619963884353638),\n",
       " ('limes', 0.7038432955741882),\n",
       " ('of', 0.6501502990722656),\n",
       " ('mint', 0.5952690243721008),\n",
       " ('fresh', 0.5751136541366577),\n",
       " ('zest', 0.5738930106163025),\n",
       " ('anchovy', 0.5566097497940063),\n",
       " ('tarragon', 0.5531262755393982)]"
      ]
     },
     "execution_count": 15,
     "metadata": {},
     "output_type": "execute_result"
    }
   ],
   "source": [
    "model.wv.most_similar('lemon')"
   ]
  },
  {
   "cell_type": "code",
   "execution_count": 41,
   "metadata": {},
   "outputs": [
    {
     "data": {
      "text/plain": [
       "[('lime', 0.7816528081893921),\n",
       " ('lemons', 0.7690925002098083),\n",
       " ('orange', 0.7349542379379272),\n",
       " ('tangerine', 0.6120350360870361),\n",
       " ('limes', 0.5864887833595276),\n",
       " ('grapefruit', 0.5044031143188477),\n",
       " ('citrus', 0.45528537034988403),\n",
       " ('clam', 0.4502507448196411),\n",
       " ('wahoo', 0.43230026960372925),\n",
       " ('capers', 0.381114661693573)]"
      ]
     },
     "execution_count": 41,
     "metadata": {},
     "output_type": "execute_result"
    }
   ],
   "source": [
    "model2.wv.most_similar('lemon')"
   ]
  },
  {
   "cell_type": "code",
   "execution_count": 65,
   "metadata": {},
   "outputs": [
    {
     "data": {
      "text/plain": [
       "[('lime', 0.7724323272705078),\n",
       " ('lemons', 0.7570627927780151),\n",
       " ('orange', 0.7232335805892944),\n",
       " ('tangerine', 0.5878748297691345),\n",
       " ('limes', 0.5871027708053589),\n",
       " ('grapefruit', 0.5303376913070679),\n",
       " ('clam', 0.44944244623184204),\n",
       " ('citrus', 0.4011431336402893),\n",
       " ('tahini', 0.3899136781692505),\n",
       " ('clamato', 0.368132084608078)]"
      ]
     },
     "execution_count": 65,
     "metadata": {},
     "output_type": "execute_result"
    }
   ],
   "source": [
    "model3.wv.most_similar('lemon')"
   ]
  },
  {
   "cell_type": "code",
   "execution_count": 16,
   "metadata": {},
   "outputs": [
    {
     "data": {
      "text/plain": [
       "[('romaine', 0.9269191026687622),\n",
       " ('avocado', 0.8589602112770081),\n",
       " ('cucumber', 0.857083797454834),\n",
       " ('iceberg', 0.8480745553970337),\n",
       " ('hearts', 0.8454151749610901),\n",
       " ('artichoke', 0.8343613743782043),\n",
       " ('ripe', 0.8328790664672852),\n",
       " ('olives', 0.8117494583129883),\n",
       " ('roma', 0.7941360473632812),\n",
       " ('english', 0.7763321399688721)]"
      ]
     },
     "execution_count": 16,
     "metadata": {},
     "output_type": "execute_result"
    }
   ],
   "source": [
    "model.wv.most_similar('lettuce')"
   ]
  },
  {
   "cell_type": "code",
   "execution_count": 42,
   "metadata": {},
   "outputs": [
    {
     "data": {
      "text/plain": [
       "[('watercress', 0.6116782426834106),\n",
       " ('avocado', 0.559979259967804),\n",
       " ('arugula', 0.49496403336524963),\n",
       " ('geranium', 0.48319917917251587),\n",
       " ('avocados', 0.4788132905960083),\n",
       " ('radishes', 0.4512363076210022),\n",
       " ('flat', 0.4499780237674713),\n",
       " ('verbena', 0.4345737099647522),\n",
       " ('salam', 0.42834579944610596),\n",
       " ('cucumber', 0.4246394634246826)]"
      ]
     },
     "execution_count": 42,
     "metadata": {},
     "output_type": "execute_result"
    }
   ],
   "source": [
    "model2.wv.most_similar('lettuce')"
   ]
  },
  {
   "cell_type": "code",
   "execution_count": 67,
   "metadata": {},
   "outputs": [
    {
     "data": {
      "text/plain": [
       "[('watercress', 0.6171967387199402),\n",
       " ('avocado', 0.5540206432342529),\n",
       " ('arugula', 0.4940323829650879),\n",
       " ('avocados', 0.45621979236602783),\n",
       " ('cucumber', 0.4468349814414978),\n",
       " ('flat', 0.443388432264328),\n",
       " ('verbena', 0.43600744009017944),\n",
       " ('frisee', 0.42664504051208496),\n",
       " ('hass', 0.4215744435787201),\n",
       " ('radishes', 0.42099297046661377)]"
      ]
     },
     "execution_count": 67,
     "metadata": {},
     "output_type": "execute_result"
    }
   ],
   "source": [
    "model3.wv.most_similar('lettuce')"
   ]
  },
  {
   "cell_type": "code",
   "execution_count": 17,
   "metadata": {},
   "outputs": [
    {
     "data": {
      "text/plain": [
       "[('balsamic', 0.7968275547027588),\n",
       " ('sherry', 0.7753726243972778),\n",
       " ('shallot', 0.7383100986480713),\n",
       " ('shallots', 0.6898280382156372),\n",
       " ('tarragon', 0.6412502527236938),\n",
       " ('vinegar', 0.6399879455566406),\n",
       " ('distilled', 0.6290098428726196),\n",
       " ('cider', 0.6211823225021362),\n",
       " ('dry', 0.5880628824234009),\n",
       " ('capers', 0.5739943385124207)]"
      ]
     },
     "execution_count": 17,
     "metadata": {},
     "output_type": "execute_result"
    }
   ],
   "source": [
    "model.wv.most_similar('wine')"
   ]
  },
  {
   "cell_type": "code",
   "execution_count": 43,
   "metadata": {},
   "outputs": [
    {
     "data": {
      "text/plain": [
       "[('distilled', 0.5910369753837585),\n",
       " ('balsamic', 0.5450686812400818),\n",
       " ('vermouth', 0.5139607787132263),\n",
       " ('ruby', 0.47888609766960144),\n",
       " ('champagne', 0.4576299786567688),\n",
       " ('reconstituted', 0.4344332218170166),\n",
       " ('tawny', 0.4187967777252197),\n",
       " ('mango-peach', 0.4019104242324829),\n",
       " ('cider', 0.3693101704120636),\n",
       " ('shallots', 0.3534594178199768)]"
      ]
     },
     "execution_count": 43,
     "metadata": {},
     "output_type": "execute_result"
    }
   ],
   "source": [
    "model2.wv.most_similar('wine')"
   ]
  },
  {
   "cell_type": "code",
   "execution_count": 68,
   "metadata": {},
   "outputs": [
    {
     "data": {
      "text/plain": [
       "[('distilled', 0.603583037853241),\n",
       " ('balsamic', 0.5651172399520874),\n",
       " ('tawny', 0.5166447758674622),\n",
       " ('ruby', 0.5074405670166016),\n",
       " ('vermouth', 0.5040571689605713),\n",
       " ('champagne', 0.4527173936367035),\n",
       " ('cider', 0.40342697501182556),\n",
       " ('malt', 0.3857051134109497),\n",
       " ('shallot', 0.3692358732223511),\n",
       " ('shallots', 0.34450504183769226)]"
      ]
     },
     "execution_count": 68,
     "metadata": {},
     "output_type": "execute_result"
    }
   ],
   "source": [
    "model3.wv.most_similar('wine')"
   ]
  },
  {
   "cell_type": "code",
   "execution_count": 18,
   "metadata": {},
   "outputs": [
    {
     "data": {
      "text/plain": [
       "[('nectarines', 0.989481508731842),\n",
       " ('tangerines', 0.9887925386428833),\n",
       " ('bitters', 0.9866330623626709),\n",
       " ('campari', 0.983485996723175),\n",
       " ('mineral', 0.9834428429603577),\n",
       " ('bartlett', 0.9831527471542358),\n",
       " ('ouzo', 0.9818152189254761),\n",
       " ('nectarine', 0.9816667437553406),\n",
       " ('kumquats', 0.9811790585517883),\n",
       " ('herbal', 0.9801663160324097)]"
      ]
     },
     "execution_count": 18,
     "metadata": {},
     "output_type": "execute_result"
    }
   ],
   "source": [
    "model.wv.most_similar('flower')"
   ]
  },
  {
   "cell_type": "code",
   "execution_count": 44,
   "metadata": {},
   "outputs": [
    {
     "data": {
      "text/plain": [
       "[('blossom', 0.9267891645431519),\n",
       " ('pekoe', 0.7605319023132324),\n",
       " ('mineral', 0.7527552843093872),\n",
       " ('section', 0.7235487103462219),\n",
       " ('seltzer', 0.7188695669174194),\n",
       " ('blood', 0.7117446064949036),\n",
       " ('twist', 0.7061004638671875),\n",
       " ('kumquats', 0.6771408319473267),\n",
       " ('rose', 0.6599628925323486),\n",
       " ('clementines', 0.6456043720245361)]"
      ]
     },
     "execution_count": 44,
     "metadata": {},
     "output_type": "execute_result"
    }
   ],
   "source": [
    "model2.wv.most_similar('flower')"
   ]
  },
  {
   "cell_type": "code",
   "execution_count": 75,
   "metadata": {},
   "outputs": [
    {
     "data": {
      "text/plain": [
       "[('blossom', 0.9109834432601929),\n",
       " ('pekoe', 0.7698348760604858),\n",
       " ('mineral', 0.7077834010124207),\n",
       " ('section', 0.6986460089683533),\n",
       " ('blood', 0.6896570920944214),\n",
       " ('seltzer', 0.6750028133392334),\n",
       " ('navel', 0.6527115106582642),\n",
       " ('kumquats', 0.6445236206054688),\n",
       " ('rose', 0.6370911598205566),\n",
       " ('twist', 0.6192972660064697)]"
      ]
     },
     "execution_count": 75,
     "metadata": {},
     "output_type": "execute_result"
    }
   ],
   "source": [
    "model3.wv.most_similar('flower')"
   ]
  },
  {
   "cell_type": "code",
   "execution_count": 19,
   "metadata": {},
   "outputs": [
    {
     "data": {
      "text/plain": [
       "[('lobster', 0.9915904402732849),\n",
       " ('crawfish', 0.9908312559127808),\n",
       " ('tail', 0.9854975938796997),\n",
       " ('oysters', 0.9835919737815857),\n",
       " ('tails', 0.9813953042030334),\n",
       " ('lobsters', 0.9802742004394531),\n",
       " ('garlic-flavored', 0.9800287485122681),\n",
       " ('sweetcorn', 0.9795462489128113),\n",
       " ('whiz', 0.9793158769607544),\n",
       " ('cheese-filled', 0.9779906272888184)]"
      ]
     },
     "execution_count": 19,
     "metadata": {},
     "output_type": "execute_result"
    }
   ],
   "source": [
    "model.wv.most_similar('crab')"
   ]
  },
  {
   "cell_type": "code",
   "execution_count": 45,
   "metadata": {},
   "outputs": [
    {
     "data": {
      "text/plain": [
       "[('lobster', 0.8546041250228882),\n",
       " ('backfin', 0.783750057220459),\n",
       " ('tail', 0.7834175229072571),\n",
       " ('crawfish', 0.7730698585510254),\n",
       " ('lump', 0.7188284397125244),\n",
       " ('tails', 0.6940182447433472),\n",
       " ('dungeness', 0.6640454530715942),\n",
       " ('imitation', 0.6620108485221863),\n",
       " ('crabmeat', 0.6414422988891602),\n",
       " ('claws', 0.6401084661483765)]"
      ]
     },
     "execution_count": 45,
     "metadata": {},
     "output_type": "execute_result"
    }
   ],
   "source": [
    "model2.wv.most_similar('crab')"
   ]
  },
  {
   "cell_type": "code",
   "execution_count": 76,
   "metadata": {},
   "outputs": [
    {
     "data": {
      "text/plain": [
       "[('lobster', 0.8651323318481445),\n",
       " ('crawfish', 0.7853349447250366),\n",
       " ('backfin', 0.7626421451568604),\n",
       " ('lump', 0.7433185577392578),\n",
       " ('tail', 0.7245652675628662),\n",
       " ('imitation', 0.715508222579956),\n",
       " ('dungeness', 0.7137159109115601),\n",
       " ('tails', 0.6831270456314087),\n",
       " ('tenderizer', 0.6468834280967712),\n",
       " ('claws', 0.6296370029449463)]"
      ]
     },
     "execution_count": 76,
     "metadata": {},
     "output_type": "execute_result"
    }
   ],
   "source": [
    "model3.wv.most_similar('crab')"
   ]
  },
  {
   "cell_type": "code",
   "execution_count": 20,
   "metadata": {},
   "outputs": [
    {
     "data": {
      "text/plain": [
       "[('potatoes', 0.9094517230987549),\n",
       " ('russet', 0.8357622027397156),\n",
       " ('squash', 0.7763534188270569),\n",
       " ('yukon', 0.7759528160095215),\n",
       " ('carrots', 0.7620909214019775),\n",
       " ('new', 0.7573143839836121),\n",
       " ('mochiko', 0.7501944303512573),\n",
       " ('gold', 0.7488538026809692),\n",
       " ('leek', 0.7486968040466309),\n",
       " ('leeks', 0.7480250597000122)]"
      ]
     },
     "execution_count": 20,
     "metadata": {},
     "output_type": "execute_result"
    }
   ],
   "source": [
    "model.wv.most_similar('potato')"
   ]
  },
  {
   "cell_type": "code",
   "execution_count": 46,
   "metadata": {},
   "outputs": [
    {
     "data": {
      "text/plain": [
       "[('potatoes', 0.6701471209526062),\n",
       " ('parsnip', 0.43228021264076233),\n",
       " ('leek', 0.42158228158950806),\n",
       " ('mochiko', 0.38100379705429077),\n",
       " ('parsnips', 0.3715168237686157),\n",
       " ('leeks', 0.36058634519577026),\n",
       " ('england', 0.3568446934223175),\n",
       " ('tiny', 0.3533657491207123),\n",
       " ('turnips', 0.34946709871292114),\n",
       " ('cauliflower', 0.3377426862716675)]"
      ]
     },
     "execution_count": 46,
     "metadata": {},
     "output_type": "execute_result"
    }
   ],
   "source": [
    "model2.wv.most_similar('potato')"
   ]
  },
  {
   "cell_type": "code",
   "execution_count": 70,
   "metadata": {},
   "outputs": [
    {
     "data": {
      "text/plain": [
       "[('potatoes', 0.6667670011520386),\n",
       " ('parsnip', 0.452867716550827),\n",
       " ('parsnips', 0.4151744246482849),\n",
       " ('kohlrabi', 0.3837639093399048),\n",
       " ('england', 0.37009358406066895),\n",
       " ('leek', 0.3694375455379486),\n",
       " ('wood', 0.360554963350296),\n",
       " ('mochiko', 0.35813313722610474),\n",
       " ('tiny', 0.349811851978302),\n",
       " ('mexico', 0.3454870879650116)]"
      ]
     },
     "execution_count": 70,
     "metadata": {},
     "output_type": "execute_result"
    }
   ],
   "source": [
    "model3.wv.most_similar('potato')"
   ]
  },
  {
   "cell_type": "code",
   "execution_count": 21,
   "metadata": {},
   "outputs": [
    {
     "data": {
      "text/plain": [
       "[('gingerroot', 0.5373712182044983),\n",
       " ('shallots', 0.5298738479614258),\n",
       " ('minced', 0.5185187458992004),\n",
       " ('fillets', 0.5033366680145264),\n",
       " ('cloves', 0.4990314543247223),\n",
       " ('shallot', 0.48874032497406006),\n",
       " ('seeds', 0.48209092020988464),\n",
       " ('oil-flavored', 0.48024222254753113),\n",
       " ('clove', 0.4793567657470703),\n",
       " ('steaks', 0.4745989441871643)]"
      ]
     },
     "execution_count": 21,
     "metadata": {},
     "output_type": "execute_result"
    }
   ],
   "source": [
    "model.wv.most_similar('oil')"
   ]
  },
  {
   "cell_type": "code",
   "execution_count": 47,
   "metadata": {},
   "outputs": [
    {
     "data": {
      "text/plain": [
       "[('tamari', 0.33874326944351196),\n",
       " ('spray', 0.31389620900154114),\n",
       " ('gingerroot', 0.29124271869659424),\n",
       " ('eggplants', 0.2885690927505493),\n",
       " ('seeds', 0.2817085385322571),\n",
       " ('v8', 0.2679239511489868),\n",
       " ('kalamata', 0.26240283250808716),\n",
       " ('shallot', 0.25984901189804077),\n",
       " ('poha', 0.25651222467422485),\n",
       " ('shallots', 0.2557847797870636)]"
      ]
     },
     "execution_count": 47,
     "metadata": {},
     "output_type": "execute_result"
    }
   ],
   "source": [
    "model2.wv.most_similar('oil')"
   ]
  },
  {
   "cell_type": "code",
   "execution_count": 69,
   "metadata": {},
   "outputs": [
    {
     "data": {
      "text/plain": [
       "[('spray', 0.32554003596305847),\n",
       " ('tamari', 0.3179647922515869),\n",
       " ('kalamata', 0.2991187572479248),\n",
       " ('gingerroot', 0.2960728704929352),\n",
       " ('v8', 0.29208630323410034),\n",
       " ('seeds', 0.2911631464958191),\n",
       " ('shallots', 0.27714788913726807),\n",
       " ('zucchini', 0.2676098942756653),\n",
       " ('tahini', 0.2628645598888397),\n",
       " ('eggplant', 0.25885745882987976)]"
      ]
     },
     "execution_count": 69,
     "metadata": {},
     "output_type": "execute_result"
    }
   ],
   "source": [
    "model3.wv.most_similar('oil')"
   ]
  },
  {
   "cell_type": "code",
   "execution_count": 22,
   "metadata": {},
   "outputs": [
    {
     "data": {
      "text/plain": [
       "[('penne', 0.8808062076568604),\n",
       " ('orzo', 0.8537720441818237),\n",
       " ('artichoke', 0.8461247682571411),\n",
       " ('hearts', 0.8344732522964478),\n",
       " ('spaghetti', 0.8131815195083618),\n",
       " ('fettuccine', 0.8001924157142639),\n",
       " ('tie', 0.7927838563919067),\n",
       " ('marinated', 0.7837780714035034),\n",
       " ('hair', 0.7815553545951843),\n",
       " ('asparagus', 0.7807404398918152)]"
      ]
     },
     "execution_count": 22,
     "metadata": {},
     "output_type": "execute_result"
    }
   ],
   "source": [
    "model.wv.most_similar('pasta')"
   ]
  },
  {
   "cell_type": "code",
   "execution_count": 48,
   "metadata": {},
   "outputs": [
    {
     "data": {
      "text/plain": [
       "[('rigate', 0.6503232717514038),\n",
       " ('spaghetti', 0.5415999889373779),\n",
       " ('linguine', 0.5371958017349243),\n",
       " ('alfredo', 0.5240943431854248),\n",
       " ('marinara', 0.5200005769729614),\n",
       " ('pesto', 0.48422354459762573),\n",
       " ('fusilli', 0.45360881090164185),\n",
       " ('oval-', 0.4146963953971863),\n",
       " ('magic', 0.3929879367351532),\n",
       " ('macaroni', 0.39088886976242065)]"
      ]
     },
     "execution_count": 48,
     "metadata": {},
     "output_type": "execute_result"
    }
   ],
   "source": [
    "model2.wv.most_similar('pasta')"
   ]
  },
  {
   "cell_type": "code",
   "execution_count": 71,
   "metadata": {},
   "outputs": [
    {
     "data": {
      "text/plain": [
       "[('rigate', 0.7032918334007263),\n",
       " ('spaghetti', 0.5376582741737366),\n",
       " ('linguine', 0.5273730158805847),\n",
       " ('marinara', 0.5049551725387573),\n",
       " ('alfredo', 0.5015131235122681),\n",
       " ('magic', 0.4882144629955292),\n",
       " ('pesto', 0.4862412214279175),\n",
       " ('fusilli', 0.4855014979839325),\n",
       " ('macaroni', 0.4045920968055725),\n",
       " ('bow', 0.372759073972702)]"
      ]
     },
     "execution_count": 71,
     "metadata": {},
     "output_type": "execute_result"
    }
   ],
   "source": [
    "model3.wv.most_similar('pasta')"
   ]
  },
  {
   "cell_type": "code",
   "execution_count": 23,
   "metadata": {},
   "outputs": [
    {
     "data": {
      "text/plain": [
       "[('unbleached', 0.757124662399292),\n",
       " ('baking', 0.7324880361557007),\n",
       " ('soda', 0.7082204222679138),\n",
       " ('cornmeal', 0.7078150510787964),\n",
       " ('buttermilk', 0.7066617608070374),\n",
       " ('shortening', 0.6984065771102905),\n",
       " ('double-acting', 0.6886634826660156),\n",
       " ('table', 0.6758009195327759),\n",
       " ('eggs', 0.670432448387146),\n",
       " ('margarine', 0.6639289855957031)]"
      ]
     },
     "execution_count": 23,
     "metadata": {},
     "output_type": "execute_result"
    }
   ],
   "source": [
    "model.wv.most_similar('flour')"
   ]
  },
  {
   "cell_type": "code",
   "execution_count": 49,
   "metadata": {},
   "outputs": [
    {
     "data": {
      "text/plain": [
       "[('double-acting', 0.5009561777114868),\n",
       " ('baking', 0.467975914478302),\n",
       " ('gum', 0.42295998334884644),\n",
       " ('4%', 0.4152625799179077),\n",
       " ('table', 0.405877947807312),\n",
       " ('cornmeal', 0.40202638506889343),\n",
       " ('unsifted', 0.3955947756767273),\n",
       " ('granulated', 0.3943544924259186),\n",
       " ('shortening', 0.3909956216812134),\n",
       " ('unbleached', 0.38569939136505127)]"
      ]
     },
     "execution_count": 49,
     "metadata": {},
     "output_type": "execute_result"
    }
   ],
   "source": [
    "model2.wv.most_similar('flour')"
   ]
  },
  {
   "cell_type": "code",
   "execution_count": 72,
   "metadata": {},
   "outputs": [
    {
     "data": {
      "text/plain": [
       "[('double-acting', 0.5067474246025085),\n",
       " ('baking', 0.460185170173645),\n",
       " ('gum', 0.4281017780303955),\n",
       " ('table', 0.4042242765426636),\n",
       " ('granulated', 0.4023725986480713),\n",
       " ('cornmeal', 0.39357542991638184),\n",
       " ('unbleached', 0.3901667892932892),\n",
       " ('shortening', 0.3718230426311493),\n",
       " ('powder', 0.3615492284297943),\n",
       " ('wholemeal', 0.35810595750808716)]"
      ]
     },
     "execution_count": 72,
     "metadata": {},
     "output_type": "execute_result"
    }
   ],
   "source": [
    "model3.wv.most_similar('flour')"
   ]
  },
  {
   "cell_type": "code",
   "execution_count": 24,
   "metadata": {},
   "outputs": [
    {
     "data": {
      "text/plain": [
       "[('reduced-sodium', 0.7662896513938904),\n",
       " ('beef', 0.6482028365135193),\n",
       " ('low', 0.6177413463592529),\n",
       " ('turkey', 0.6105403304100037),\n",
       " ('mushroom', 0.595980167388916),\n",
       " ('skinless', 0.5908628702163696),\n",
       " ('boneless', 0.5824434161186218),\n",
       " ('sodium', 0.581783652305603),\n",
       " ('pheasant', 0.5496189594268799),\n",
       " ('low-sodium', 0.5481683015823364)]"
      ]
     },
     "execution_count": 24,
     "metadata": {},
     "output_type": "execute_result"
    }
   ],
   "source": [
    "model.wv.most_similar('chicken')"
   ]
  },
  {
   "cell_type": "code",
   "execution_count": 50,
   "metadata": {},
   "outputs": [
    {
     "data": {
      "text/plain": [
       "[('duck', 0.4956321716308594),\n",
       " ('beef', 0.48619264364242554),\n",
       " ('turkey', 0.4533311724662781),\n",
       " ('homemade', 0.4221561849117279),\n",
       " ('vegetable', 0.41689008474349976),\n",
       " ('partridge', 0.37218382954597473),\n",
       " ('masarepa', 0.3466483950614929),\n",
       " ('mushroom', 0.3409509062767029),\n",
       " ('swanson', 0.3239603042602539),\n",
       " ('dashi', 0.30947113037109375)]"
      ]
     },
     "execution_count": 50,
     "metadata": {},
     "output_type": "execute_result"
    }
   ],
   "source": [
    "model2.wv.most_similar('chicken')"
   ]
  },
  {
   "cell_type": "code",
   "execution_count": 73,
   "metadata": {},
   "outputs": [
    {
     "data": {
      "text/plain": [
       "[('beef', 0.504117488861084),\n",
       " ('duck', 0.4836897850036621),\n",
       " ('turkey', 0.4650645852088928),\n",
       " ('homemade', 0.44032272696495056),\n",
       " ('vegetable', 0.38899457454681396),\n",
       " ('couscous', 0.33096185326576233),\n",
       " ('dashi', 0.3285070061683655),\n",
       " ('mushroom', 0.3240150213241577),\n",
       " ('ready-to-serve', 0.3157094717025757),\n",
       " ('swanson', 0.3039800524711609)]"
      ]
     },
     "execution_count": 73,
     "metadata": {},
     "output_type": "execute_result"
    }
   ],
   "source": [
    "model3.wv.most_similar('chicken')"
   ]
  },
  {
   "cell_type": "code",
   "execution_count": 27,
   "metadata": {},
   "outputs": [],
   "source": [
    "list_B = ['juice','pasta', 'beef']"
   ]
  },
  {
   "cell_type": "code",
   "execution_count": 28,
   "metadata": {},
   "outputs": [
    {
     "data": {
      "text/plain": [
       "[('shrimp', 0.7692281007766724),\n",
       " ('medium', 0.7285089492797852),\n",
       " ('herbs', 0.720702052116394),\n",
       " ('anchovy', 0.7138568162918091),\n",
       " ('scallion', 0.7059252858161926),\n",
       " ('plum', 0.7029719352722168),\n",
       " ('asparagus', 0.6957504749298096),\n",
       " ('mushroom', 0.6955235004425049),\n",
       " ('linguine', 0.6952791810035706),\n",
       " ('shallot', 0.6919134855270386)]"
      ]
     },
     "execution_count": 28,
     "metadata": {},
     "output_type": "execute_result"
    }
   ],
   "source": [
    "model.wv.most_similar(list_B)"
   ]
  },
  {
   "cell_type": "code",
   "execution_count": 33,
   "metadata": {},
   "outputs": [
    {
     "data": {
      "text/plain": [
       "[('casserole', 0.457034707069397),\n",
       " ('chicken', 0.42465171217918396),\n",
       " ('pilchards', 0.3925546407699585),\n",
       " ('spaghetti', 0.33620485663414),\n",
       " ('worcestershire', 0.3273236155509949),\n",
       " ('capers', 0.3198486566543579),\n",
       " ('turkey', 0.31929564476013184),\n",
       " ('lamb', 0.31012600660324097),\n",
       " ('diced', 0.3049411177635193),\n",
       " ('no-salt-added', 0.29831480979919434)]"
      ]
     },
     "execution_count": 33,
     "metadata": {},
     "output_type": "execute_result"
    }
   ],
   "source": [
    "model2.wv.most_similar(list_B)"
   ]
  },
  {
   "cell_type": "code",
   "execution_count": 34,
   "metadata": {},
   "outputs": [
    {
     "data": {
      "text/plain": [
       "[('chicken', 0.4265873432159424),\n",
       " ('spaghetti', 0.3381485939025879),\n",
       " ('turkey', 0.3335927426815033),\n",
       " ('italian-style', 0.32792478799819946),\n",
       " ('no-salt-added', 0.3134876489639282),\n",
       " ('lamb', 0.3074280619621277),\n",
       " ('marinara', 0.3052300214767456),\n",
       " ('capers', 0.3048248887062073),\n",
       " ('tabasco', 0.30072325468063354),\n",
       " ('diced', 0.29711437225341797)]"
      ]
     },
     "execution_count": 34,
     "metadata": {},
     "output_type": "execute_result"
    }
   ],
   "source": [
    "model3.wv.most_similar(list_B)"
   ]
  },
  {
   "cell_type": "code",
   "execution_count": null,
   "metadata": {},
   "outputs": [],
   "source": []
  }
 ],
 "metadata": {
  "kernelspec": {
   "display_name": "Python 3",
   "language": "python",
   "name": "python3"
  },
  "language_info": {
   "codemirror_mode": {
    "name": "ipython",
    "version": 3
   },
   "file_extension": ".py",
   "mimetype": "text/x-python",
   "name": "python",
   "nbconvert_exporter": "python",
   "pygments_lexer": "ipython3",
   "version": "3.8.3"
  }
 },
 "nbformat": 4,
 "nbformat_minor": 4
}
