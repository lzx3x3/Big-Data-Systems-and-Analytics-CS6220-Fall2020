{
 "cells": [
  {
   "cell_type": "code",
   "execution_count": 1,
   "metadata": {},
   "outputs": [
    {
     "name": "stderr",
     "output_type": "stream",
     "text": [
      "C:\\Users\\lzx3x3\\anaconda3\\lib\\site-packages\\lightfm\\_lightfm_fast.py:9: UserWarning: LightFM was compiled without OpenMP support. Only a single thread will be used.\n",
      "  warnings.warn('LightFM was compiled without OpenMP support. '\n"
     ]
    }
   ],
   "source": [
    "# import modules\n",
    "import numpy as np\n",
    "import pandas as pd\n",
    "import lightfm\n",
    "from lightfm import LightFM\n",
    "from lightfm.data import Dataset\n",
    "import time"
   ]
  },
  {
   "cell_type": "code",
   "execution_count": 2,
   "metadata": {},
   "outputs": [],
   "source": [
    "# import dataset\n",
    "\n",
    "restaurant_df = pd.read_csv('restaurant.csv')\n",
    "rate_df = pd.read_csv('user_reviews.csv')"
   ]
  },
  {
   "cell_type": "code",
   "execution_count": 3,
   "metadata": {},
   "outputs": [
    {
     "data": {
      "text/html": [
       "<div>\n",
       "<style scoped>\n",
       "    .dataframe tbody tr th:only-of-type {\n",
       "        vertical-align: middle;\n",
       "    }\n",
       "\n",
       "    .dataframe tbody tr th {\n",
       "        vertical-align: top;\n",
       "    }\n",
       "\n",
       "    .dataframe thead th {\n",
       "        text-align: right;\n",
       "    }\n",
       "</style>\n",
       "<table border=\"1\" class=\"dataframe\">\n",
       "  <thead>\n",
       "    <tr style=\"text-align: right;\">\n",
       "      <th></th>\n",
       "      <th>restaurant_id</th>\n",
       "      <th>restaurant_name</th>\n",
       "      <th>neighborhood</th>\n",
       "      <th>review_count</th>\n",
       "      <th>price</th>\n",
       "      <th>type</th>\n",
       "      <th>average_rating</th>\n",
       "    </tr>\n",
       "  </thead>\n",
       "  <tbody>\n",
       "    <tr>\n",
       "      <th>0</th>\n",
       "      <td>_IFMCrheTi12RqiR7jvJUg</td>\n",
       "      <td>Little Rey</td>\n",
       "      <td>Westside / Home Park</td>\n",
       "      <td>225</td>\n",
       "      <td>2.0</td>\n",
       "      <td>mexican</td>\n",
       "      <td>4.0</td>\n",
       "    </tr>\n",
       "    <tr>\n",
       "      <th>1</th>\n",
       "      <td>0qJXSTFBnNoh5lMD3LgE0Q</td>\n",
       "      <td>Bacchanalia</td>\n",
       "      <td>Westside / Home Park</td>\n",
       "      <td>660</td>\n",
       "      <td>4.0</td>\n",
       "      <td>american</td>\n",
       "      <td>4.5</td>\n",
       "    </tr>\n",
       "    <tr>\n",
       "      <th>2</th>\n",
       "      <td>0ukhgBeLATOo8b8lDobRGg</td>\n",
       "      <td>Roasters</td>\n",
       "      <td>Westside / Home Park</td>\n",
       "      <td>369</td>\n",
       "      <td>2.0</td>\n",
       "      <td>american</td>\n",
       "      <td>4.0</td>\n",
       "    </tr>\n",
       "    <tr>\n",
       "      <th>3</th>\n",
       "      <td>14nIlMhxTXWnJg0Glrr-PQ</td>\n",
       "      <td>Top Spice</td>\n",
       "      <td>Morningside / Lenox Park</td>\n",
       "      <td>471</td>\n",
       "      <td>2.0</td>\n",
       "      <td>asian</td>\n",
       "      <td>4.0</td>\n",
       "    </tr>\n",
       "    <tr>\n",
       "      <th>4</th>\n",
       "      <td>1i63faxXI1TQ7pNlLp3IPQ</td>\n",
       "      <td>Cypress Street Pint &amp; Plate</td>\n",
       "      <td>Westside / Home Park</td>\n",
       "      <td>1244</td>\n",
       "      <td>2.0</td>\n",
       "      <td>american</td>\n",
       "      <td>4.0</td>\n",
       "    </tr>\n",
       "  </tbody>\n",
       "</table>\n",
       "</div>"
      ],
      "text/plain": [
       "            restaurant_id              restaurant_name  \\\n",
       "0  _IFMCrheTi12RqiR7jvJUg                   Little Rey   \n",
       "1  0qJXSTFBnNoh5lMD3LgE0Q                  Bacchanalia   \n",
       "2  0ukhgBeLATOo8b8lDobRGg                     Roasters   \n",
       "3  14nIlMhxTXWnJg0Glrr-PQ                    Top Spice   \n",
       "4  1i63faxXI1TQ7pNlLp3IPQ  Cypress Street Pint & Plate   \n",
       "\n",
       "               neighborhood  review_count  price      type  average_rating  \n",
       "0      Westside / Home Park           225    2.0   mexican             4.0  \n",
       "1      Westside / Home Park           660    4.0  american             4.5  \n",
       "2      Westside / Home Park           369    2.0  american             4.0  \n",
       "3  Morningside / Lenox Park           471    2.0     asian             4.0  \n",
       "4      Westside / Home Park          1244    2.0  american             4.0  "
      ]
     },
     "execution_count": 3,
     "metadata": {},
     "output_type": "execute_result"
    }
   ],
   "source": [
    "restaurant_df.head()"
   ]
  },
  {
   "cell_type": "code",
   "execution_count": 4,
   "metadata": {},
   "outputs": [
    {
     "data": {
      "text/html": [
       "<div>\n",
       "<style scoped>\n",
       "    .dataframe tbody tr th:only-of-type {\n",
       "        vertical-align: middle;\n",
       "    }\n",
       "\n",
       "    .dataframe tbody tr th {\n",
       "        vertical-align: top;\n",
       "    }\n",
       "\n",
       "    .dataframe thead th {\n",
       "        text-align: right;\n",
       "    }\n",
       "</style>\n",
       "<table border=\"1\" class=\"dataframe\">\n",
       "  <thead>\n",
       "    <tr style=\"text-align: right;\">\n",
       "      <th></th>\n",
       "      <th>restaurant_name</th>\n",
       "      <th>restaurant_id</th>\n",
       "      <th>user_id</th>\n",
       "      <th>friends</th>\n",
       "      <th>number_reviews</th>\n",
       "      <th>photos</th>\n",
       "      <th>area_AL</th>\n",
       "      <th>elite_user</th>\n",
       "      <th>date</th>\n",
       "      <th>rating</th>\n",
       "      <th>rating_mean</th>\n",
       "      <th>standard_dev</th>\n",
       "    </tr>\n",
       "  </thead>\n",
       "  <tbody>\n",
       "    <tr>\n",
       "      <th>0</th>\n",
       "      <td>Fox Bros. Bar-B-Q</td>\n",
       "      <td>u-4wti774tFcYRLuQrnHEg</td>\n",
       "      <td>__1kMkvHH-kWVeokwZSFXw</td>\n",
       "      <td>115</td>\n",
       "      <td>3</td>\n",
       "      <td>NaN</td>\n",
       "      <td>1</td>\n",
       "      <td>0</td>\n",
       "      <td>3/18/2016</td>\n",
       "      <td>5</td>\n",
       "      <td>4.268636</td>\n",
       "      <td>NaN</td>\n",
       "    </tr>\n",
       "    <tr>\n",
       "      <th>1</th>\n",
       "      <td>South City Kitchen Midtown</td>\n",
       "      <td>eG-UO83g_5zDk70FIJbm2w</td>\n",
       "      <td>__48dJJcPvNgqUlEozwtpw</td>\n",
       "      <td>105</td>\n",
       "      <td>318</td>\n",
       "      <td>1219.0</td>\n",
       "      <td>0</td>\n",
       "      <td>0</td>\n",
       "      <td>8/23/2014</td>\n",
       "      <td>4</td>\n",
       "      <td>4.336328</td>\n",
       "      <td>NaN</td>\n",
       "    </tr>\n",
       "    <tr>\n",
       "      <th>2</th>\n",
       "      <td>The Vortex Bar And Grill - Midtown</td>\n",
       "      <td>Z2qMwUhnGt_2pA9uQbS7Uw</td>\n",
       "      <td>__48dJJcPvNgqUlEozwtpw</td>\n",
       "      <td>105</td>\n",
       "      <td>318</td>\n",
       "      <td>1219.0</td>\n",
       "      <td>0</td>\n",
       "      <td>0</td>\n",
       "      <td>8/23/2014</td>\n",
       "      <td>4</td>\n",
       "      <td>3.946784</td>\n",
       "      <td>NaN</td>\n",
       "    </tr>\n",
       "    <tr>\n",
       "      <th>3</th>\n",
       "      <td>Fat Matt's Rib Shack</td>\n",
       "      <td>ALYQ-uM_uMkKbkXlhWcgbQ</td>\n",
       "      <td>__48dJJcPvNgqUlEozwtpw</td>\n",
       "      <td>105</td>\n",
       "      <td>318</td>\n",
       "      <td>1219.0</td>\n",
       "      <td>0</td>\n",
       "      <td>0</td>\n",
       "      <td>8/23/2014</td>\n",
       "      <td>5</td>\n",
       "      <td>4.178538</td>\n",
       "      <td>NaN</td>\n",
       "    </tr>\n",
       "    <tr>\n",
       "      <th>4</th>\n",
       "      <td>Cypress Street Pint &amp; Plate</td>\n",
       "      <td>1i63faxXI1TQ7pNlLp3IPQ</td>\n",
       "      <td>__48dJJcPvNgqUlEozwtpw</td>\n",
       "      <td>105</td>\n",
       "      <td>318</td>\n",
       "      <td>1219.0</td>\n",
       "      <td>0</td>\n",
       "      <td>0</td>\n",
       "      <td>8/23/2014</td>\n",
       "      <td>4</td>\n",
       "      <td>4.028112</td>\n",
       "      <td>NaN</td>\n",
       "    </tr>\n",
       "  </tbody>\n",
       "</table>\n",
       "</div>"
      ],
      "text/plain": [
       "                      restaurant_name           restaurant_id  \\\n",
       "0                   Fox Bros. Bar-B-Q  u-4wti774tFcYRLuQrnHEg   \n",
       "1          South City Kitchen Midtown  eG-UO83g_5zDk70FIJbm2w   \n",
       "2  The Vortex Bar And Grill - Midtown  Z2qMwUhnGt_2pA9uQbS7Uw   \n",
       "3                Fat Matt's Rib Shack  ALYQ-uM_uMkKbkXlhWcgbQ   \n",
       "4         Cypress Street Pint & Plate  1i63faxXI1TQ7pNlLp3IPQ   \n",
       "\n",
       "                  user_id  friends  number_reviews  photos  area_AL  \\\n",
       "0  __1kMkvHH-kWVeokwZSFXw      115               3     NaN        1   \n",
       "1  __48dJJcPvNgqUlEozwtpw      105             318  1219.0        0   \n",
       "2  __48dJJcPvNgqUlEozwtpw      105             318  1219.0        0   \n",
       "3  __48dJJcPvNgqUlEozwtpw      105             318  1219.0        0   \n",
       "4  __48dJJcPvNgqUlEozwtpw      105             318  1219.0        0   \n",
       "\n",
       "   elite_user       date  rating  rating_mean  standard_dev  \n",
       "0           0  3/18/2016       5     4.268636           NaN  \n",
       "1           0  8/23/2014       4     4.336328           NaN  \n",
       "2           0  8/23/2014       4     3.946784           NaN  \n",
       "3           0  8/23/2014       5     4.178538           NaN  \n",
       "4           0  8/23/2014       4     4.028112           NaN  "
      ]
     },
     "execution_count": 4,
     "metadata": {},
     "output_type": "execute_result"
    }
   ],
   "source": [
    "rate_df.head(5)"
   ]
  },
  {
   "cell_type": "code",
   "execution_count": 5,
   "metadata": {},
   "outputs": [
    {
     "name": "stdout",
     "output_type": "stream",
     "text": [
      "restaurant:  (97, 7)\n",
      "user_reviews:  (71432, 12)\n"
     ]
    }
   ],
   "source": [
    "print('restaurant: ', restaurant_df.shape)\n",
    "print('user_reviews: ', rate_df.shape)"
   ]
  },
  {
   "cell_type": "code",
   "execution_count": 6,
   "metadata": {},
   "outputs": [],
   "source": [
    "# generate different size of datasets\n",
    "rate_df_1 = rate_df[0:2000]\n",
    "rate_df_2 = rate_df[0:20000]\n",
    "rate_df_3 = rate_df[0:70000]"
   ]
  },
  {
   "cell_type": "code",
   "execution_count": 7,
   "metadata": {},
   "outputs": [
    {
     "name": "stdout",
     "output_type": "stream",
     "text": [
      "user_reviews_1:  (2000, 12)\n",
      "user_reviews_2:  (20000, 12)\n",
      "user_reviews_3:  (70000, 12)\n"
     ]
    }
   ],
   "source": [
    "print('user_reviews_1: ', rate_df_1.shape)\n",
    "print('user_reviews_2: ', rate_df_2.shape)\n",
    "print('user_reviews_3: ', rate_df_3.shape)"
   ]
  },
  {
   "cell_type": "code",
   "execution_count": 8,
   "metadata": {},
   "outputs": [
    {
     "data": {
      "text/plain": [
       "user_id\n",
       "UvGT0JSSvPVMHQmIrx0E1w    1\n",
       "cEFXYRhTsvfOu7s3K-GSoQ    1\n",
       "cEHSnPusrGSR7uqks8q07Q    1\n",
       "cEKG-JvH8BNJrncIHwAdCA    1\n",
       "cEOOLhNWQ-2qySQZK06toQ    1\n",
       "cEg5z0laRpLnn-0iEUHUUw    1\n",
       "cEgtc2023TXJrfYv49OMXw    1\n",
       "cEoUXy-o7d5idvmL_642Jg    1\n",
       "cE0R1C-Aacg4R3gfxLy48Q    1\n",
       "cEtOc0LaFcpjQ8a8yg-yeA    1\n",
       "Name: rating, dtype: int64"
      ]
     },
     "execution_count": 8,
     "metadata": {},
     "output_type": "execute_result"
    }
   ],
   "source": [
    "# data Analysis\n",
    "\n",
    "num_of_rate_per_user = rate_df_3.groupby(by='user_id')['rating'].count().sort_values(ascending=True)\n",
    "num_of_rate_per_user.head(10)"
   ]
  },
  {
   "cell_type": "code",
   "execution_count": 9,
   "metadata": {},
   "outputs": [
    {
     "data": {
      "text/html": [
       "<div>\n",
       "<style scoped>\n",
       "    .dataframe tbody tr th:only-of-type {\n",
       "        vertical-align: middle;\n",
       "    }\n",
       "\n",
       "    .dataframe tbody tr th {\n",
       "        vertical-align: top;\n",
       "    }\n",
       "\n",
       "    .dataframe thead th {\n",
       "        text-align: right;\n",
       "    }\n",
       "</style>\n",
       "<table border=\"1\" class=\"dataframe\">\n",
       "  <thead>\n",
       "    <tr style=\"text-align: right;\">\n",
       "      <th></th>\n",
       "      <th>user_id</th>\n",
       "      <th>restaurant_name</th>\n",
       "      <th>rating</th>\n",
       "    </tr>\n",
       "  </thead>\n",
       "  <tbody>\n",
       "    <tr>\n",
       "      <th>0</th>\n",
       "      <td>__1kMkvHH-kWVeokwZSFXw</td>\n",
       "      <td>Fox Bros. Bar-B-Q</td>\n",
       "      <td>5</td>\n",
       "    </tr>\n",
       "    <tr>\n",
       "      <th>1</th>\n",
       "      <td>__48dJJcPvNgqUlEozwtpw</td>\n",
       "      <td>South City Kitchen Midtown</td>\n",
       "      <td>4</td>\n",
       "    </tr>\n",
       "    <tr>\n",
       "      <th>2</th>\n",
       "      <td>__48dJJcPvNgqUlEozwtpw</td>\n",
       "      <td>The Vortex Bar And Grill - Midtown</td>\n",
       "      <td>4</td>\n",
       "    </tr>\n",
       "    <tr>\n",
       "      <th>3</th>\n",
       "      <td>__48dJJcPvNgqUlEozwtpw</td>\n",
       "      <td>Fat Matt's Rib Shack</td>\n",
       "      <td>5</td>\n",
       "    </tr>\n",
       "    <tr>\n",
       "      <th>4</th>\n",
       "      <td>__48dJJcPvNgqUlEozwtpw</td>\n",
       "      <td>Cypress Street Pint &amp; Plate</td>\n",
       "      <td>4</td>\n",
       "    </tr>\n",
       "  </tbody>\n",
       "</table>\n",
       "</div>"
      ],
      "text/plain": [
       "                  user_id                     restaurant_name  rating\n",
       "0  __1kMkvHH-kWVeokwZSFXw                   Fox Bros. Bar-B-Q       5\n",
       "1  __48dJJcPvNgqUlEozwtpw          South City Kitchen Midtown       4\n",
       "2  __48dJJcPvNgqUlEozwtpw  The Vortex Bar And Grill - Midtown       4\n",
       "3  __48dJJcPvNgqUlEozwtpw                Fat Matt's Rib Shack       5\n",
       "4  __48dJJcPvNgqUlEozwtpw         Cypress Street Pint & Plate       4"
      ]
     },
     "execution_count": 9,
     "metadata": {},
     "output_type": "execute_result"
    }
   ],
   "source": [
    "full_df = rate_df_1[['user_id', 'restaurant_name', 'rating']]\n",
    "full_df.head()"
   ]
  },
  {
   "cell_type": "code",
   "execution_count": 10,
   "metadata": {},
   "outputs": [
    {
     "name": "stdout",
     "output_type": "stream",
     "text": [
      "(2000, 3)\n"
     ]
    }
   ],
   "source": [
    "print(full_df.shape)"
   ]
  },
  {
   "cell_type": "code",
   "execution_count": 11,
   "metadata": {},
   "outputs": [
    {
     "data": {
      "text/html": [
       "<div>\n",
       "<style scoped>\n",
       "    .dataframe tbody tr th:only-of-type {\n",
       "        vertical-align: middle;\n",
       "    }\n",
       "\n",
       "    .dataframe tbody tr th {\n",
       "        vertical-align: top;\n",
       "    }\n",
       "\n",
       "    .dataframe thead th {\n",
       "        text-align: right;\n",
       "    }\n",
       "</style>\n",
       "<table border=\"1\" class=\"dataframe\">\n",
       "  <thead>\n",
       "    <tr style=\"text-align: right;\">\n",
       "      <th></th>\n",
       "      <th>user_id</th>\n",
       "      <th>restaurant_name</th>\n",
       "      <th>rating</th>\n",
       "    </tr>\n",
       "  </thead>\n",
       "  <tbody>\n",
       "    <tr>\n",
       "      <th>1</th>\n",
       "      <td>__48dJJcPvNgqUlEozwtpw</td>\n",
       "      <td>South City Kitchen Midtown</td>\n",
       "      <td>4</td>\n",
       "    </tr>\n",
       "    <tr>\n",
       "      <th>2</th>\n",
       "      <td>__48dJJcPvNgqUlEozwtpw</td>\n",
       "      <td>The Vortex Bar And Grill - Midtown</td>\n",
       "      <td>4</td>\n",
       "    </tr>\n",
       "    <tr>\n",
       "      <th>3</th>\n",
       "      <td>__48dJJcPvNgqUlEozwtpw</td>\n",
       "      <td>Fat Matt's Rib Shack</td>\n",
       "      <td>5</td>\n",
       "    </tr>\n",
       "    <tr>\n",
       "      <th>4</th>\n",
       "      <td>__48dJJcPvNgqUlEozwtpw</td>\n",
       "      <td>Cypress Street Pint &amp; Plate</td>\n",
       "      <td>4</td>\n",
       "    </tr>\n",
       "    <tr>\n",
       "      <th>8</th>\n",
       "      <td>__bMs0nf3_hnhitK91gT4A</td>\n",
       "      <td>South City Kitchen Midtown</td>\n",
       "      <td>4</td>\n",
       "    </tr>\n",
       "    <tr>\n",
       "      <th>9</th>\n",
       "      <td>__bMs0nf3_hnhitK91gT4A</td>\n",
       "      <td>Atlanta Breakfast Club</td>\n",
       "      <td>5</td>\n",
       "    </tr>\n",
       "    <tr>\n",
       "      <th>10</th>\n",
       "      <td>__bMs0nf3_hnhitK91gT4A</td>\n",
       "      <td>Herban Fix - Vegan Kitchen</td>\n",
       "      <td>2</td>\n",
       "    </tr>\n",
       "    <tr>\n",
       "      <th>18</th>\n",
       "      <td>_02XN3yATdWwfMIbsGhMuQ</td>\n",
       "      <td>Slutty Vegan</td>\n",
       "      <td>5</td>\n",
       "    </tr>\n",
       "    <tr>\n",
       "      <th>19</th>\n",
       "      <td>_02XN3yATdWwfMIbsGhMuQ</td>\n",
       "      <td>26 Thai Kitchen &amp; Bar</td>\n",
       "      <td>4</td>\n",
       "    </tr>\n",
       "    <tr>\n",
       "      <th>20</th>\n",
       "      <td>_02XN3yATdWwfMIbsGhMuQ</td>\n",
       "      <td>Sweet Georgia's Juke Joint</td>\n",
       "      <td>2</td>\n",
       "    </tr>\n",
       "  </tbody>\n",
       "</table>\n",
       "</div>"
      ],
      "text/plain": [
       "                   user_id                     restaurant_name  rating\n",
       "1   __48dJJcPvNgqUlEozwtpw          South City Kitchen Midtown       4\n",
       "2   __48dJJcPvNgqUlEozwtpw  The Vortex Bar And Grill - Midtown       4\n",
       "3   __48dJJcPvNgqUlEozwtpw                Fat Matt's Rib Shack       5\n",
       "4   __48dJJcPvNgqUlEozwtpw         Cypress Street Pint & Plate       4\n",
       "8   __bMs0nf3_hnhitK91gT4A          South City Kitchen Midtown       4\n",
       "9   __bMs0nf3_hnhitK91gT4A              Atlanta Breakfast Club       5\n",
       "10  __bMs0nf3_hnhitK91gT4A          Herban Fix - Vegan Kitchen       2\n",
       "18  _02XN3yATdWwfMIbsGhMuQ                        Slutty Vegan       5\n",
       "19  _02XN3yATdWwfMIbsGhMuQ               26 Thai Kitchen & Bar       4\n",
       "20  _02XN3yATdWwfMIbsGhMuQ          Sweet Georgia's Juke Joint       2"
      ]
     },
     "execution_count": 11,
     "metadata": {},
     "output_type": "execute_result"
    }
   ],
   "source": [
    "#Getting the new dataframe which contains users who has given 2 or more ratings\n",
    "\n",
    "data=full_df.groupby(\"user_id\").filter(lambda x:x['rating'].count() >=2)\n",
    "data.sort_values(by='user_id', ascending=True)\n",
    "data.head(10)"
   ]
  },
  {
   "cell_type": "code",
   "execution_count": 12,
   "metadata": {},
   "outputs": [
    {
     "name": "stdout",
     "output_type": "stream",
     "text": [
      "(911, 3)\n"
     ]
    }
   ],
   "source": [
    "print(data.shape)"
   ]
  },
  {
   "cell_type": "code",
   "execution_count": 28,
   "metadata": {},
   "outputs": [
    {
     "data": {
      "text/html": [
       "<div>\n",
       "<style scoped>\n",
       "    .dataframe tbody tr th:only-of-type {\n",
       "        vertical-align: middle;\n",
       "    }\n",
       "\n",
       "    .dataframe tbody tr th {\n",
       "        vertical-align: top;\n",
       "    }\n",
       "\n",
       "    .dataframe thead th {\n",
       "        text-align: right;\n",
       "    }\n",
       "</style>\n",
       "<table border=\"1\" class=\"dataframe\">\n",
       "  <thead>\n",
       "    <tr style=\"text-align: right;\">\n",
       "      <th></th>\n",
       "      <th>user_id</th>\n",
       "      <th>number_reviews</th>\n",
       "      <th>elite_user</th>\n",
       "      <th>rating</th>\n",
       "    </tr>\n",
       "  </thead>\n",
       "  <tbody>\n",
       "    <tr>\n",
       "      <th>1</th>\n",
       "      <td>__48dJJcPvNgqUlEozwtpw</td>\n",
       "      <td>318</td>\n",
       "      <td>0</td>\n",
       "      <td>4</td>\n",
       "    </tr>\n",
       "    <tr>\n",
       "      <th>8</th>\n",
       "      <td>__bMs0nf3_hnhitK91gT4A</td>\n",
       "      <td>241</td>\n",
       "      <td>1</td>\n",
       "      <td>4</td>\n",
       "    </tr>\n",
       "    <tr>\n",
       "      <th>18</th>\n",
       "      <td>_02XN3yATdWwfMIbsGhMuQ</td>\n",
       "      <td>158</td>\n",
       "      <td>1</td>\n",
       "      <td>5</td>\n",
       "    </tr>\n",
       "    <tr>\n",
       "      <th>24</th>\n",
       "      <td>_0aVQ4FlWgbsYt5weko4RA</td>\n",
       "      <td>18</td>\n",
       "      <td>0</td>\n",
       "      <td>5</td>\n",
       "    </tr>\n",
       "    <tr>\n",
       "      <th>32</th>\n",
       "      <td>_0cWueK8TnVQgzDAHYzmqA</td>\n",
       "      <td>342</td>\n",
       "      <td>0</td>\n",
       "      <td>4</td>\n",
       "    </tr>\n",
       "    <tr>\n",
       "      <th>35</th>\n",
       "      <td>_0Fy-RA342PdGvLjsaPmtQ</td>\n",
       "      <td>148</td>\n",
       "      <td>0</td>\n",
       "      <td>3</td>\n",
       "    </tr>\n",
       "    <tr>\n",
       "      <th>39</th>\n",
       "      <td>_0p-IcWltylzqAH4CioExA</td>\n",
       "      <td>400</td>\n",
       "      <td>1</td>\n",
       "      <td>4</td>\n",
       "    </tr>\n",
       "    <tr>\n",
       "      <th>54</th>\n",
       "      <td>_1cGXPU3pUKKyjUEsU92qQ</td>\n",
       "      <td>17</td>\n",
       "      <td>0</td>\n",
       "      <td>5</td>\n",
       "    </tr>\n",
       "    <tr>\n",
       "      <th>62</th>\n",
       "      <td>_1wSwNKhS4WOYqOksOE1zQ</td>\n",
       "      <td>171</td>\n",
       "      <td>0</td>\n",
       "      <td>4</td>\n",
       "    </tr>\n",
       "    <tr>\n",
       "      <th>64</th>\n",
       "      <td>_1wTD-D_I-UjofcTHgANDA</td>\n",
       "      <td>168</td>\n",
       "      <td>0</td>\n",
       "      <td>4</td>\n",
       "    </tr>\n",
       "  </tbody>\n",
       "</table>\n",
       "</div>"
      ],
      "text/plain": [
       "                   user_id  number_reviews  elite_user  rating\n",
       "1   __48dJJcPvNgqUlEozwtpw             318           0       4\n",
       "8   __bMs0nf3_hnhitK91gT4A             241           1       4\n",
       "18  _02XN3yATdWwfMIbsGhMuQ             158           1       5\n",
       "24  _0aVQ4FlWgbsYt5weko4RA              18           0       5\n",
       "32  _0cWueK8TnVQgzDAHYzmqA             342           0       4\n",
       "35  _0Fy-RA342PdGvLjsaPmtQ             148           0       3\n",
       "39  _0p-IcWltylzqAH4CioExA             400           1       4\n",
       "54  _1cGXPU3pUKKyjUEsU92qQ              17           0       5\n",
       "62  _1wSwNKhS4WOYqOksOE1zQ             171           0       4\n",
       "64  _1wTD-D_I-UjofcTHgANDA             168           0       4"
      ]
     },
     "execution_count": 28,
     "metadata": {},
     "output_type": "execute_result"
    }
   ],
   "source": [
    "df_user=rate_df_1[['user_id', 'number_reviews', 'elite_user', 'rating']].groupby(\"user_id\").filter(lambda x:x['rating'].count() >=2)\n",
    "df_user = df_user.drop_duplicates(subset='user_id', keep=\"first\")\n",
    "\n",
    "df_user.head(10)"
   ]
  },
  {
   "cell_type": "code",
   "execution_count": 29,
   "metadata": {},
   "outputs": [
    {
     "data": {
      "text/plain": [
       "(305, 4)"
      ]
     },
     "execution_count": 29,
     "metadata": {},
     "output_type": "execute_result"
    }
   ],
   "source": [
    "df_user.shape"
   ]
  },
  {
   "cell_type": "code",
   "execution_count": 15,
   "metadata": {},
   "outputs": [],
   "source": [
    "# Codes referenced \"https://making.lyst.com/lightfm/docs/examples/dataset.html\" &\n",
    "# https://www.kaggle.com/niyamatalmass/lightfm-hybrid-recommendation-system/execution#LightFM-Python-Library\"!!!"
   ]
  },
  {
   "cell_type": "code",
   "execution_count": 16,
   "metadata": {},
   "outputs": [],
   "source": [
    "def generate_int_id(dataframe, id_col_name):\n",
    "    new_dataframe=dataframe.assign(\n",
    "        int_id_col_name=np.arange(len(dataframe))\n",
    "        ).reset_index(drop=True)\n",
    "    return new_dataframe.rename(columns={'int_id_col_name': id_col_name})"
   ]
  },
  {
   "cell_type": "code",
   "execution_count": 17,
   "metadata": {},
   "outputs": [],
   "source": [
    "# generating unique integer id for users and restaurants\n",
    "\n",
    "restaurant_df = generate_int_id(restaurant_df, 'restaurant_int')\n",
    "df_user = generate_int_id(df_user, 'user_int')\n",
    "data = generate_int_id(data, 'restaurant_int')\n",
    "data = generate_int_id(data, 'user_int')"
   ]
  },
  {
   "cell_type": "code",
   "execution_count": 18,
   "metadata": {},
   "outputs": [
    {
     "data": {
      "text/html": [
       "<div>\n",
       "<style scoped>\n",
       "    .dataframe tbody tr th:only-of-type {\n",
       "        vertical-align: middle;\n",
       "    }\n",
       "\n",
       "    .dataframe tbody tr th {\n",
       "        vertical-align: top;\n",
       "    }\n",
       "\n",
       "    .dataframe thead th {\n",
       "        text-align: right;\n",
       "    }\n",
       "</style>\n",
       "<table border=\"1\" class=\"dataframe\">\n",
       "  <thead>\n",
       "    <tr style=\"text-align: right;\">\n",
       "      <th></th>\n",
       "      <th>restaurant_id</th>\n",
       "      <th>restaurant_name</th>\n",
       "      <th>neighborhood</th>\n",
       "      <th>review_count</th>\n",
       "      <th>price</th>\n",
       "      <th>type</th>\n",
       "      <th>average_rating</th>\n",
       "      <th>restaurant_int</th>\n",
       "    </tr>\n",
       "  </thead>\n",
       "  <tbody>\n",
       "    <tr>\n",
       "      <th>0</th>\n",
       "      <td>_IFMCrheTi12RqiR7jvJUg</td>\n",
       "      <td>Little Rey</td>\n",
       "      <td>Westside / Home Park</td>\n",
       "      <td>225</td>\n",
       "      <td>2.0</td>\n",
       "      <td>mexican</td>\n",
       "      <td>4.0</td>\n",
       "      <td>0</td>\n",
       "    </tr>\n",
       "    <tr>\n",
       "      <th>1</th>\n",
       "      <td>0qJXSTFBnNoh5lMD3LgE0Q</td>\n",
       "      <td>Bacchanalia</td>\n",
       "      <td>Westside / Home Park</td>\n",
       "      <td>660</td>\n",
       "      <td>4.0</td>\n",
       "      <td>american</td>\n",
       "      <td>4.5</td>\n",
       "      <td>1</td>\n",
       "    </tr>\n",
       "    <tr>\n",
       "      <th>2</th>\n",
       "      <td>0ukhgBeLATOo8b8lDobRGg</td>\n",
       "      <td>Roasters</td>\n",
       "      <td>Westside / Home Park</td>\n",
       "      <td>369</td>\n",
       "      <td>2.0</td>\n",
       "      <td>american</td>\n",
       "      <td>4.0</td>\n",
       "      <td>2</td>\n",
       "    </tr>\n",
       "    <tr>\n",
       "      <th>3</th>\n",
       "      <td>14nIlMhxTXWnJg0Glrr-PQ</td>\n",
       "      <td>Top Spice</td>\n",
       "      <td>Morningside / Lenox Park</td>\n",
       "      <td>471</td>\n",
       "      <td>2.0</td>\n",
       "      <td>asian</td>\n",
       "      <td>4.0</td>\n",
       "      <td>3</td>\n",
       "    </tr>\n",
       "    <tr>\n",
       "      <th>4</th>\n",
       "      <td>1i63faxXI1TQ7pNlLp3IPQ</td>\n",
       "      <td>Cypress Street Pint &amp; Plate</td>\n",
       "      <td>Westside / Home Park</td>\n",
       "      <td>1244</td>\n",
       "      <td>2.0</td>\n",
       "      <td>american</td>\n",
       "      <td>4.0</td>\n",
       "      <td>4</td>\n",
       "    </tr>\n",
       "  </tbody>\n",
       "</table>\n",
       "</div>"
      ],
      "text/plain": [
       "            restaurant_id              restaurant_name  \\\n",
       "0  _IFMCrheTi12RqiR7jvJUg                   Little Rey   \n",
       "1  0qJXSTFBnNoh5lMD3LgE0Q                  Bacchanalia   \n",
       "2  0ukhgBeLATOo8b8lDobRGg                     Roasters   \n",
       "3  14nIlMhxTXWnJg0Glrr-PQ                    Top Spice   \n",
       "4  1i63faxXI1TQ7pNlLp3IPQ  Cypress Street Pint & Plate   \n",
       "\n",
       "               neighborhood  review_count  price      type  average_rating  \\\n",
       "0      Westside / Home Park           225    2.0   mexican             4.0   \n",
       "1      Westside / Home Park           660    4.0  american             4.5   \n",
       "2      Westside / Home Park           369    2.0  american             4.0   \n",
       "3  Morningside / Lenox Park           471    2.0     asian             4.0   \n",
       "4      Westside / Home Park          1244    2.0  american             4.0   \n",
       "\n",
       "   restaurant_int  \n",
       "0               0  \n",
       "1               1  \n",
       "2               2  \n",
       "3               3  \n",
       "4               4  "
      ]
     },
     "execution_count": 18,
     "metadata": {},
     "output_type": "execute_result"
    }
   ],
   "source": [
    "restaurant_df.head()"
   ]
  },
  {
   "cell_type": "code",
   "execution_count": 19,
   "metadata": {},
   "outputs": [
    {
     "data": {
      "text/html": [
       "<div>\n",
       "<style scoped>\n",
       "    .dataframe tbody tr th:only-of-type {\n",
       "        vertical-align: middle;\n",
       "    }\n",
       "\n",
       "    .dataframe tbody tr th {\n",
       "        vertical-align: top;\n",
       "    }\n",
       "\n",
       "    .dataframe thead th {\n",
       "        text-align: right;\n",
       "    }\n",
       "</style>\n",
       "<table border=\"1\" class=\"dataframe\">\n",
       "  <thead>\n",
       "    <tr style=\"text-align: right;\">\n",
       "      <th></th>\n",
       "      <th>user_id</th>\n",
       "      <th>restaurant_name</th>\n",
       "      <th>rating</th>\n",
       "      <th>restaurant_int</th>\n",
       "      <th>user_int</th>\n",
       "    </tr>\n",
       "  </thead>\n",
       "  <tbody>\n",
       "    <tr>\n",
       "      <th>0</th>\n",
       "      <td>__48dJJcPvNgqUlEozwtpw</td>\n",
       "      <td>South City Kitchen Midtown</td>\n",
       "      <td>4</td>\n",
       "      <td>0</td>\n",
       "      <td>0</td>\n",
       "    </tr>\n",
       "    <tr>\n",
       "      <th>1</th>\n",
       "      <td>__48dJJcPvNgqUlEozwtpw</td>\n",
       "      <td>The Vortex Bar And Grill - Midtown</td>\n",
       "      <td>4</td>\n",
       "      <td>1</td>\n",
       "      <td>1</td>\n",
       "    </tr>\n",
       "    <tr>\n",
       "      <th>2</th>\n",
       "      <td>__48dJJcPvNgqUlEozwtpw</td>\n",
       "      <td>Fat Matt's Rib Shack</td>\n",
       "      <td>5</td>\n",
       "      <td>2</td>\n",
       "      <td>2</td>\n",
       "    </tr>\n",
       "    <tr>\n",
       "      <th>3</th>\n",
       "      <td>__48dJJcPvNgqUlEozwtpw</td>\n",
       "      <td>Cypress Street Pint &amp; Plate</td>\n",
       "      <td>4</td>\n",
       "      <td>3</td>\n",
       "      <td>3</td>\n",
       "    </tr>\n",
       "    <tr>\n",
       "      <th>4</th>\n",
       "      <td>__bMs0nf3_hnhitK91gT4A</td>\n",
       "      <td>South City Kitchen Midtown</td>\n",
       "      <td>4</td>\n",
       "      <td>4</td>\n",
       "      <td>4</td>\n",
       "    </tr>\n",
       "  </tbody>\n",
       "</table>\n",
       "</div>"
      ],
      "text/plain": [
       "                  user_id                     restaurant_name  rating  \\\n",
       "0  __48dJJcPvNgqUlEozwtpw          South City Kitchen Midtown       4   \n",
       "1  __48dJJcPvNgqUlEozwtpw  The Vortex Bar And Grill - Midtown       4   \n",
       "2  __48dJJcPvNgqUlEozwtpw                Fat Matt's Rib Shack       5   \n",
       "3  __48dJJcPvNgqUlEozwtpw         Cypress Street Pint & Plate       4   \n",
       "4  __bMs0nf3_hnhitK91gT4A          South City Kitchen Midtown       4   \n",
       "\n",
       "   restaurant_int  user_int  \n",
       "0               0         0  \n",
       "1               1         1  \n",
       "2               2         2  \n",
       "3               3         3  \n",
       "4               4         4  "
      ]
     },
     "execution_count": 19,
     "metadata": {},
     "output_type": "execute_result"
    }
   ],
   "source": [
    "data.head()"
   ]
  },
  {
   "cell_type": "code",
   "execution_count": 20,
   "metadata": {},
   "outputs": [
    {
     "name": "stdout",
     "output_type": "stream",
     "text": [
      "48\n"
     ]
    }
   ],
   "source": [
    "from scipy.sparse import coo_matrix\n",
    "import sys\n",
    "\n",
    "u= data['user_int']\n",
    "s= data['restaurant_int']\n",
    "t= data['rating']\n",
    "\n",
    "lu= u.nunique()\n",
    "ls= s.nunique()\n",
    "\n",
    "matrix= coo_matrix((t,(u,s)), shape=(lu, ls))\n",
    "print(sys.getsizeof(matrix))"
   ]
  },
  {
   "cell_type": "code",
   "execution_count": 21,
   "metadata": {},
   "outputs": [],
   "source": [
    "# Build lifhtFM collaborative Filtering model"
   ]
  },
  {
   "cell_type": "code",
   "execution_count": 22,
   "metadata": {},
   "outputs": [],
   "source": [
    "# Default \"Learning to Rank\" Models with LightFM\n",
    "\n",
    "model = LightFM(learning_rate=0.05, loss='warp')"
   ]
  },
  {
   "cell_type": "code",
   "execution_count": 23,
   "metadata": {},
   "outputs": [],
   "source": [
    "from lightfm.cross_validation import random_train_test_split\n",
    "train, test= random_train_test_split(matrix, test_percentage=0.2)"
   ]
  },
  {
   "cell_type": "code",
   "execution_count": 24,
   "metadata": {},
   "outputs": [
    {
     "name": "stdout",
     "output_type": "stream",
     "text": [
      "0.5994336605072021\n"
     ]
    }
   ],
   "source": [
    "from lightfm.evaluation import auc_score, precision_at_k\n",
    "start_time = time.time()\n",
    "scores=[]\n",
    "for e in range(10):\n",
    "    model.fit_partial(train, epochs=10, num_threads=4)\n",
    "    auc_train= auc_score(model, train, num_threads=4).mean()\n",
    "    auc_test= auc_score(model, test, num_threads=4).mean()\n",
    "    scores.append((auc_train, auc_test))\n",
    "    \n",
    "scores = np.array(scores)\n",
    "print(time.time() - start_time)"
   ]
  },
  {
   "cell_type": "code",
   "execution_count": 25,
   "metadata": {},
   "outputs": [
    {
     "name": "stdout",
     "output_type": "stream",
     "text": [
      "[[0.83063036 0.1003603 ]\n",
      " [0.9856448  0.09905723]\n",
      " [0.9990808  0.09903321]\n",
      " [0.9998883  0.09903321]\n",
      " [0.99995923 0.09903321]\n",
      " [0.9999728  0.09903321]\n",
      " [0.9999804  0.09903321]\n",
      " [0.99997437 0.09903321]\n",
      " [0.9999789  0.09903321]\n",
      " [0.99997735 0.09903321]]\n"
     ]
    }
   ],
   "source": [
    "print(scores)"
   ]
  },
  {
   "cell_type": "code",
   "execution_count": 30,
   "metadata": {},
   "outputs": [],
   "source": [
    "# prediction \n",
    "\n",
    "prediction= model.predict(np.array(data['user_int']), np.array(data['restaurant_int']))\n",
    "preds= pd.DataFrame(zip(prediction, data['user_id'],data['restaurant_name'].tolist()), columns=['preds', 'user_id', 'restaurant_name'])\n",
    "preds= preds.sort_values('preds', ascending= False)"
   ]
  },
  {
   "cell_type": "code",
   "execution_count": 31,
   "metadata": {},
   "outputs": [
    {
     "data": {
      "text/html": [
       "<div>\n",
       "<style scoped>\n",
       "    .dataframe tbody tr th:only-of-type {\n",
       "        vertical-align: middle;\n",
       "    }\n",
       "\n",
       "    .dataframe tbody tr th {\n",
       "        vertical-align: top;\n",
       "    }\n",
       "\n",
       "    .dataframe thead th {\n",
       "        text-align: right;\n",
       "    }\n",
       "</style>\n",
       "<table border=\"1\" class=\"dataframe\">\n",
       "  <thead>\n",
       "    <tr style=\"text-align: right;\">\n",
       "      <th></th>\n",
       "      <th>preds</th>\n",
       "      <th>user_id</th>\n",
       "      <th>restaurant_name</th>\n",
       "    </tr>\n",
       "  </thead>\n",
       "  <tbody>\n",
       "    <tr>\n",
       "      <th>243</th>\n",
       "      <td>2.100278</td>\n",
       "      <td>_JImuS4cuhIdrxJ1dFArlA</td>\n",
       "      <td>Sweet Georgia's Juke Joint</td>\n",
       "    </tr>\n",
       "    <tr>\n",
       "      <th>426</th>\n",
       "      <td>2.056181</td>\n",
       "      <td>_vdRrbd4GZwPihM4QUHaWQ</td>\n",
       "      <td>Fox Bros. Bar-B-Q</td>\n",
       "    </tr>\n",
       "    <tr>\n",
       "      <th>263</th>\n",
       "      <td>2.046145</td>\n",
       "      <td>_L1pkTdmTvzkUHqE_b7C3Q</td>\n",
       "      <td>Louisiana Bistreaux Buckhead</td>\n",
       "    </tr>\n",
       "    <tr>\n",
       "      <th>485</th>\n",
       "      <td>2.009933</td>\n",
       "      <td>_Z_bthCNWY2bMnaIAp7SYA</td>\n",
       "      <td>Fox Bros. Bar-B-Q</td>\n",
       "    </tr>\n",
       "    <tr>\n",
       "      <th>533</th>\n",
       "      <td>2.007424</td>\n",
       "      <td>04_jG2EE6J-rMUZpBsmH0g</td>\n",
       "      <td>Grindhouse Killer Burgers</td>\n",
       "    </tr>\n",
       "    <tr>\n",
       "      <th>...</th>\n",
       "      <td>...</td>\n",
       "      <td>...</td>\n",
       "      <td>...</td>\n",
       "    </tr>\n",
       "    <tr>\n",
       "      <th>769</th>\n",
       "      <td>-0.621469</td>\n",
       "      <td>0lT_cMUTF-LDJynQcfGPww</td>\n",
       "      <td>Fox Bros. Bar-B-Q</td>\n",
       "    </tr>\n",
       "    <tr>\n",
       "      <th>737</th>\n",
       "      <td>-0.623112</td>\n",
       "      <td>0IOe3crUYSJ_K1fxYH0dXw</td>\n",
       "      <td>Little Bangkok</td>\n",
       "    </tr>\n",
       "    <tr>\n",
       "      <th>256</th>\n",
       "      <td>-0.635422</td>\n",
       "      <td>_Kc7VDrYA3wB0fWNZ36riQ</td>\n",
       "      <td>Grindhouse Killer Burgers</td>\n",
       "    </tr>\n",
       "    <tr>\n",
       "      <th>529</th>\n",
       "      <td>-0.642611</td>\n",
       "      <td>03n7_buIe-lARdl74Y22AQ</td>\n",
       "      <td>Atlanta Breakfast Club</td>\n",
       "    </tr>\n",
       "    <tr>\n",
       "      <th>319</th>\n",
       "      <td>-0.649901</td>\n",
       "      <td>_oTWHf1ZFu62IOK4RVraww</td>\n",
       "      <td>FLIP burger boutique</td>\n",
       "    </tr>\n",
       "  </tbody>\n",
       "</table>\n",
       "<p>911 rows × 3 columns</p>\n",
       "</div>"
      ],
      "text/plain": [
       "        preds                 user_id               restaurant_name\n",
       "243  2.100278  _JImuS4cuhIdrxJ1dFArlA    Sweet Georgia's Juke Joint\n",
       "426  2.056181  _vdRrbd4GZwPihM4QUHaWQ             Fox Bros. Bar-B-Q\n",
       "263  2.046145  _L1pkTdmTvzkUHqE_b7C3Q  Louisiana Bistreaux Buckhead\n",
       "485  2.009933  _Z_bthCNWY2bMnaIAp7SYA             Fox Bros. Bar-B-Q\n",
       "533  2.007424  04_jG2EE6J-rMUZpBsmH0g     Grindhouse Killer Burgers\n",
       "..        ...                     ...                           ...\n",
       "769 -0.621469  0lT_cMUTF-LDJynQcfGPww             Fox Bros. Bar-B-Q\n",
       "737 -0.623112  0IOe3crUYSJ_K1fxYH0dXw                Little Bangkok\n",
       "256 -0.635422  _Kc7VDrYA3wB0fWNZ36riQ     Grindhouse Killer Burgers\n",
       "529 -0.642611  03n7_buIe-lARdl74Y22AQ        Atlanta Breakfast Club\n",
       "319 -0.649901  _oTWHf1ZFu62IOK4RVraww          FLIP burger boutique\n",
       "\n",
       "[911 rows x 3 columns]"
      ]
     },
     "execution_count": 31,
     "metadata": {},
     "output_type": "execute_result"
    }
   ],
   "source": [
    "#creating function to get top 5 Product Recommendation for each user.\n",
    "\n",
    "preds"
   ]
  },
  {
   "cell_type": "code",
   "execution_count": null,
   "metadata": {},
   "outputs": [],
   "source": []
  },
  {
   "cell_type": "code",
   "execution_count": null,
   "metadata": {},
   "outputs": [],
   "source": []
  }
 ],
 "metadata": {
  "kernelspec": {
   "display_name": "Python 3",
   "language": "python",
   "name": "python3"
  },
  "language_info": {
   "codemirror_mode": {
    "name": "ipython",
    "version": 3
   },
   "file_extension": ".py",
   "mimetype": "text/x-python",
   "name": "python",
   "nbconvert_exporter": "python",
   "pygments_lexer": "ipython3",
   "version": "3.8.3"
  }
 },
 "nbformat": 4,
 "nbformat_minor": 4
}
